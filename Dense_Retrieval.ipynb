{
  "nbformat": 4,
  "nbformat_minor": 0,
  "metadata": {
    "colab": {
      "provenance": [],
      "toc_visible": true,
      "authorship_tag": "ABX9TyMSY0wmIfMpt/G38y24fz5w",
      "include_colab_link": true
    },
    "kernelspec": {
      "name": "python3",
      "display_name": "Python 3"
    },
    "language_info": {
      "name": "python"
    }
  },
  "cells": [
    {
      "cell_type": "markdown",
      "metadata": {
        "id": "view-in-github",
        "colab_type": "text"
      },
      "source": [
        "<a href=\"https://colab.research.google.com/github/AntarikshVerma/Large_Language_Models_with_Semantic_Search/blob/main/Dense_Retrieval.ipynb\" target=\"_parent\"><img src=\"https://colab.research.google.com/assets/colab-badge.svg\" alt=\"Open In Colab\"/></a>"
      ]
    },
    {
      "cell_type": "code",
      "execution_count": 2,
      "metadata": {
        "id": "eFMXL2POm_At"
      },
      "outputs": [],
      "source": [
        "# !pip install cohere\n",
        "# !pip install weaviate-client"
      ]
    },
    {
      "cell_type": "code",
      "source": [
        "import weaviate\n",
        "from google.colab import userdata\n",
        "\n",
        "cohere_api_key=userdata.get('COHERE_KEY')\n",
        "weaviate_api_key=userdata.get('WEAVIATE_COHERE_KEY')\n",
        "weaviate_api_URL=userdata.get('WEAVIATE_COHERE_URL') #https://cohere-demo.weaviate.network/\n"
      ],
      "metadata": {
        "id": "jYy-l-O26bxv"
      },
      "execution_count": 16,
      "outputs": []
    },
    {
      "cell_type": "code",
      "source": [
        "import cohere\n",
        "co = cohere.Client(cohere_api_key)"
      ],
      "metadata": {
        "id": "LWQxLoaCINHx"
      },
      "execution_count": 45,
      "outputs": []
    },
    {
      "cell_type": "code",
      "source": [
        "auth_config = weaviate.auth.AuthApiKey(api_key=weaviate_api_key)\n",
        "client = weaviate.Client(\n",
        "    url=weaviate_api_URL,\n",
        "    auth_client_secret=auth_config,\n",
        "    additional_headers={\n",
        "        \"X-Cohere-Api-Key\":cohere_api_key,\n",
        "    }\n",
        ")\n",
        "\n"
      ],
      "metadata": {
        "id": "_LIqeGKm61pl"
      },
      "execution_count": 17,
      "outputs": []
    },
    {
      "cell_type": "code",
      "source": [
        "client.is_ready()"
      ],
      "metadata": {
        "id": "ze9TNoQxAiLc",
        "outputId": "f2bf1f21-9505-4fc9-ffb8-5a3e2dd62ec4",
        "colab": {
          "base_uri": "https://localhost:8080/"
        }
      },
      "execution_count": 18,
      "outputs": [
        {
          "output_type": "execute_result",
          "data": {
            "text/plain": [
              "True"
            ]
          },
          "metadata": {},
          "execution_count": 18
        }
      ]
    },
    {
      "cell_type": "markdown",
      "source": [
        "## Keyword Seach\n"
      ],
      "metadata": {
        "id": "Emm-ah_lDMnH"
      }
    },
    {
      "cell_type": "code",
      "source": [
        "def keyword_search(query,\n",
        "                   results_lang='en',\n",
        "                   properties = [\"title\",\"url\",\"text\"],\n",
        "                   num_results=3):\n",
        "\n",
        "    where_filter = {\n",
        "    \"path\": [\"lang\"],\n",
        "    \"operator\": \"Equal\",\n",
        "    \"valueString\": results_lang\n",
        "    }\n",
        "\n",
        "    response = (\n",
        "        client.query.get(\"Articles\", properties)\n",
        "        .with_bm25(\n",
        "            query=query\n",
        "        )\n",
        "        .with_where(where_filter)\n",
        "        .with_limit(num_results)\n",
        "        .do()\n",
        "        )\n",
        "\n",
        "    result = response['data']['Get']['Articles']\n",
        "    return result"
      ],
      "metadata": {
        "id": "9Q3kgc4uDMFO"
      },
      "execution_count": 24,
      "outputs": []
    },
    {
      "cell_type": "markdown",
      "source": [
        "### Try modifying the search options\n",
        "- Other languages to try: `en, de, fr, es, it, ja, ar, zh, ko, hi`"
      ],
      "metadata": {
        "id": "Vyv_-cASDpE7"
      }
    },
    {
      "cell_type": "code",
      "source": [
        "properties = [\"text\", \"title\", \"url\", \"views\", \"lang\"]\n",
        "\n",
        "def print_result(result):\n",
        "    \"\"\" Print results with colorful formatting \"\"\"\n",
        "    for i,item in enumerate(result):\n",
        "        print(f'item {i}')\n",
        "        for key in item.keys():\n",
        "            print(f\"{key}:{item.get(key)}\")\n",
        "            print()\n",
        "        print()"
      ],
      "metadata": {
        "id": "Kvk-payoDg6q"
      },
      "execution_count": 25,
      "outputs": []
    },
    {
      "cell_type": "code",
      "source": [
        "query = \"Who is the capital of canada?\"\n",
        "keyword_search_results = keyword_search(query)\n",
        "print(keyword_search_results)"
      ],
      "metadata": {
        "id": "6cyOEIBrAxMq",
        "outputId": "286d9f5e-81ab-4b0e-c1e2-9156f4327f99",
        "colab": {
          "base_uri": "https://localhost:8080/"
        }
      },
      "execution_count": 28,
      "outputs": [
        {
          "output_type": "stream",
          "name": "stdout",
          "text": [
            "[{'text': \"With sixty percent of Canada's steel produced in Hamilton by Stelco and Dofasco, the city has become known as the Steel Capital of Canada. After nearly declaring bankruptcy, Stelco returned to profitability in 2004. On August 26, 2007 United States Steel Corporation acquired Stelco for C$38.50 in cash per share, owning more than 76 percent of Stelco's outstanding shares. On September 17, 2014, US Steel Canada announced it was applying for bankruptcy protection and it would close its Hamilton operations.\", 'title': 'Hamilton, Ontario', 'url': 'https://en.wikipedia.org/wiki?curid=14288'}, {'text': 'The founding of a colonial college had long been the desire of John Graves Simcoe, the first Lieutenant-Governor of Upper Canada and founder of York, the colonial capital. As an Oxford-educated military commander who had fought in the American Revolutionary War, Simcoe believed a college was needed to counter the spread of republicanism from the United States. The Upper Canada Executive Committee recommended in 1798 that a college be established in York.', 'title': 'University of Toronto', 'url': 'https://en.wikipedia.org/wiki?curid=7955325'}, {'text': \"Newfoundland and Labrador is the youngest province in Canada. Newfoundland was organised as a colony in 1825, was self-governing from 1855 to 1934, but after a financial crisis the legislature was suspended and it was ruled through a Commission of Government (see Dominion of Newfoundland). On June 22 and July 3, 1948, the population of the colony voted in referendums 52.3% to 47.7% in favour of joining Canada as a province. Opposition to confederation was concentrated among residents of the capital St. John's, and on the Avalon Peninsula.\", 'title': 'Newfoundland (island)', 'url': 'https://en.wikipedia.org/wiki?curid=26304966'}]\n"
          ]
        }
      ]
    },
    {
      "cell_type": "code",
      "source": [
        "print_result(keyword_search_results)"
      ],
      "metadata": {
        "id": "PC5lYmWKD5Ui",
        "outputId": "53c01243-39c6-4bb1-9756-75f7b80bd5f4",
        "colab": {
          "base_uri": "https://localhost:8080/"
        }
      },
      "execution_count": 29,
      "outputs": [
        {
          "output_type": "stream",
          "name": "stdout",
          "text": [
            "item 0\n",
            "text:With sixty percent of Canada's steel produced in Hamilton by Stelco and Dofasco, the city has become known as the Steel Capital of Canada. After nearly declaring bankruptcy, Stelco returned to profitability in 2004. On August 26, 2007 United States Steel Corporation acquired Stelco for C$38.50 in cash per share, owning more than 76 percent of Stelco's outstanding shares. On September 17, 2014, US Steel Canada announced it was applying for bankruptcy protection and it would close its Hamilton operations.\n",
            "\n",
            "title:Hamilton, Ontario\n",
            "\n",
            "url:https://en.wikipedia.org/wiki?curid=14288\n",
            "\n",
            "\n",
            "item 1\n",
            "text:The founding of a colonial college had long been the desire of John Graves Simcoe, the first Lieutenant-Governor of Upper Canada and founder of York, the colonial capital. As an Oxford-educated military commander who had fought in the American Revolutionary War, Simcoe believed a college was needed to counter the spread of republicanism from the United States. The Upper Canada Executive Committee recommended in 1798 that a college be established in York.\n",
            "\n",
            "title:University of Toronto\n",
            "\n",
            "url:https://en.wikipedia.org/wiki?curid=7955325\n",
            "\n",
            "\n",
            "item 2\n",
            "text:Newfoundland and Labrador is the youngest province in Canada. Newfoundland was organised as a colony in 1825, was self-governing from 1855 to 1934, but after a financial crisis the legislature was suspended and it was ruled through a Commission of Government (see Dominion of Newfoundland). On June 22 and July 3, 1948, the population of the colony voted in referendums 52.3% to 47.7% in favour of joining Canada as a province. Opposition to confederation was concentrated among residents of the capital St. John's, and on the Avalon Peninsula.\n",
            "\n",
            "title:Newfoundland (island)\n",
            "\n",
            "url:https://en.wikipedia.org/wiki?curid=26304966\n",
            "\n",
            "\n"
          ]
        }
      ]
    },
    {
      "cell_type": "markdown",
      "source": [],
      "metadata": {
        "id": "5aRZPKxMEuWB"
      }
    },
    {
      "cell_type": "markdown",
      "source": [
        "## Part 1: Vector Database for semantic Search"
      ],
      "metadata": {
        "id": "AGaadrzxFSUL"
      }
    },
    {
      "cell_type": "code",
      "source": [
        "def dense_retrieval(query,\n",
        "                    results_lang='en',\n",
        "                    properties = [\"text\", \"title\", \"url\", \"views\", \"lang\", \"_additional {distance}\"],\n",
        "                    num_results=5):\n",
        "\n",
        "    nearText = {\"concepts\": [query]}\n",
        "\n",
        "    # To filter by language\n",
        "    where_filter = {\n",
        "    \"path\": [\"lang\"],\n",
        "    \"operator\": \"Equal\",\n",
        "    \"valueString\": results_lang\n",
        "    }\n",
        "    response = (\n",
        "        client.query\n",
        "        .get(\"Articles\", properties)\n",
        "        .with_near_text(nearText)\n",
        "        .with_where(where_filter)\n",
        "        .with_limit(num_results)\n",
        "        .do()\n",
        "    )\n",
        "\n",
        "    result = response['data']['Get']['Articles']\n",
        "\n",
        "    return result"
      ],
      "metadata": {
        "id": "wxxk1JXkD_q8"
      },
      "execution_count": 30,
      "outputs": []
    },
    {
      "cell_type": "code",
      "source": [
        "query = \"What is the capital of Canada?\"\n",
        "dense_retrieval_results = dense_retrieval(query)\n",
        "print_result(dense_retrieval_results)"
      ],
      "metadata": {
        "id": "_yhcw3EbE8AB",
        "outputId": "34034204-1ee0-44e7-f1e4-fea65e7f8b6f",
        "colab": {
          "base_uri": "https://localhost:8080/"
        }
      },
      "execution_count": 31,
      "outputs": [
        {
          "output_type": "stream",
          "name": "stdout",
          "text": [
            "item 0\n",
            "_additional:{'distance': -150.8031}\n",
            "\n",
            "lang:en\n",
            "\n",
            "text:The governor general of the province had designated Kingston as the capital in 1841. However, the major population centres of Toronto and Montreal, as well as the former capital of Lower Canada, Quebec City, all had legislators dissatisfied with Kingston. Anglophone merchants in Quebec were the main group supportive of the Kingston arrangement. In 1842, a vote rejected Kingston as the capital, and study of potential candidates included the then-named Bytown, but that option proved less popular than Toronto or Montreal. In 1843, a report of the Executive Council recommended Montreal as the capital as a more fortifiable location and commercial centre, however, the Governor General refused to execute a move without a parliamentary vote. In 1844, the Queen's acceptance of a parliamentary vote moved the capital to Montreal.\n",
            "\n",
            "title:Ottawa\n",
            "\n",
            "url:https://en.wikipedia.org/wiki?curid=22219\n",
            "\n",
            "views:2000\n",
            "\n",
            "\n",
            "item 1\n",
            "_additional:{'distance': -150.28354}\n",
            "\n",
            "lang:en\n",
            "\n",
            "text:For brief periods, Toronto was twice the capital of the united Province of Canada: first from 1849 to 1852, following unrest in Montreal, and later 1856–1858. After this date, Quebec was designated as the capital until 1866 (one year before Canadian Confederation). Since then, the capital of Canada has remained Ottawa, Ontario.\n",
            "\n",
            "title:Toronto\n",
            "\n",
            "url:https://en.wikipedia.org/wiki?curid=64646\n",
            "\n",
            "views:3000\n",
            "\n",
            "\n",
            "item 2\n",
            "_additional:{'distance': -150.02524}\n",
            "\n",
            "lang:en\n",
            "\n",
            "text:Selection of Ottawa as the capital of Canada predates the Confederation of Canada. The selection was contentious and not straightforward, with the parliament of the United Province of Canada holding more than 200 votes over several decades to attempt to settle on a legislative solution to the location of the capital.\n",
            "\n",
            "title:Ottawa\n",
            "\n",
            "url:https://en.wikipedia.org/wiki?curid=22219\n",
            "\n",
            "views:2000\n",
            "\n",
            "\n",
            "item 3\n",
            "_additional:{'distance': -149.92365}\n",
            "\n",
            "lang:en\n",
            "\n",
            "text:Until the late 18th century Québec was the most populous city in present-day Canada. As of the census of 1790, Montreal surpassed it with 18,000 inhabitants, but Quebec (pop. 14,000) remained the administrative capital of New France. It was then made the capital of Lower Canada by the Constitutional Act of 1791. From 1841 to 1867, the capital of the Province of Canada rotated between Kingston, Montreal, Toronto, Ottawa and Quebec City (from 1852 to 1856 and from 1859 to 1866).\n",
            "\n",
            "title:Quebec City\n",
            "\n",
            "url:https://en.wikipedia.org/wiki?curid=100727\n",
            "\n",
            "views:2000\n",
            "\n",
            "\n",
            "item 4\n",
            "_additional:{'distance': -149.71033}\n",
            "\n",
            "lang:en\n",
            "\n",
            "text:The Quebec Conference on Canadian Confederation was held in the city in 1864. In 1867, Queen Victoria chose Ottawa as the definite capital of the Dominion of Canada, while Quebec City was confirmed as the capital of the newly created province of Quebec.\n",
            "\n",
            "title:Quebec City\n",
            "\n",
            "url:https://en.wikipedia.org/wiki?curid=100727\n",
            "\n",
            "views:2000\n",
            "\n",
            "\n"
          ]
        }
      ]
    },
    {
      "cell_type": "code",
      "source": [
        "query = \"film about a time travel paradox\"\n",
        "dense_retrieval_results = dense_retrieval(query)\n",
        "print_result(dense_retrieval_results)"
      ],
      "metadata": {
        "id": "Blp3wAe-F_OC",
        "outputId": "a7a23ba4-d7d5-4d5d-9e0c-c5cfa1100191",
        "colab": {
          "base_uri": "https://localhost:8080/"
        }
      },
      "execution_count": 32,
      "outputs": [
        {
          "output_type": "stream",
          "name": "stdout",
          "text": [
            "item 0\n",
            "_additional:{'distance': -151.41705}\n",
            "\n",
            "lang:en\n",
            "\n",
            "text:Although the production contracted out various effect houses to try to make the time travelling effects feel like more of a spectacle, they found the resulting work \"just completely wrong\" tonally and instead focused on a more low-key approach. Curtis has opined \"that in the end it turns out to be a kind of anti–time travel time travel movie. It uses all the time travel stuff but without it feeling like it's a science fiction thing particularly or without it feeling that time travel can actually solve your life.\"\n",
            "\n",
            "title:About Time (2013 film)\n",
            "\n",
            "url:https://en.wikipedia.org/wiki?curid=38094431\n",
            "\n",
            "views:2000\n",
            "\n",
            "\n",
            "item 1\n",
            "_additional:{'distance': -150.89001}\n",
            "\n",
            "lang:en\n",
            "\n",
            "text:The film was directed by Wells's great-grandson Simon Wells, with an even more revised plot that incorporated the ideas of paradoxes and changing the past. The place is changed from Richmond, Surrey, to downtown New York City, where the Time Traveller moves forward in time to find answers to his questions on 'Practical Application of Time Travel;' first in 2030 New York, to witness an orbital lunar catastrophe in 2037, before moving on to 802,701 for the main plot. He later briefly finds himself in 635,427,810 with toxic clouds and a world laid waste (presumably by the Morlocks) with devastation and Morlock artifacts stretching out to the horizon.\n",
            "\n",
            "title:The Time Machine\n",
            "\n",
            "url:https://en.wikipedia.org/wiki?curid=29834\n",
            "\n",
            "views:2000\n",
            "\n",
            "\n",
            "item 2\n",
            "_additional:{'distance': -150.34875}\n",
            "\n",
            "lang:en\n",
            "\n",
            "text:Leslie Felperin of \"Variety\" called the film \"reassuringly bland\" and says there is sense of déjà vu especially for anyone who has seen \"The Time Traveler's Wife\", also co-starring McAdams. Unlike that film, she has no knowledge of his powers in \"About Time\", resulting in a \"fundamental lack of honesty in their relationship\". Felperin noted British reverse snobbery would put many off this and other Curtis films, but that this would be less of a problem among American Anglophiles and those willing to suspend disbelief, taking the characters as British \"versions of Woody Allen's Manhattanites (but with less angst)\". Felperin praised the chemistry of the leading couple \"that keeps the film aloft\" and the supporting cast, while also criticising the stock characters as being too familiar.\n",
            "\n",
            "title:About Time (2013 film)\n",
            "\n",
            "url:https://en.wikipedia.org/wiki?curid=38094431\n",
            "\n",
            "views:2000\n",
            "\n",
            "\n",
            "item 3\n",
            "_additional:{'distance': -149.9461}\n",
            "\n",
            "lang:en\n",
            "\n",
            "text:The philosopher Kelley L. Ross argues in \"Time Travel Paradoxes\" that in a scenario involving a physical object whose world-line or history forms a closed loop in time there can be a violation of the second law of thermodynamics. Ross uses the film \"Somewhere in Time\" as an example of such an ontological paradox, where a watch is given to a person, and 60 years later the same watch is brought back in time and given to the same character. Ross states that entropy of the watch will increase, and the watch carried back in time will be more worn with each repetition of its history. The second law of thermodynamics is understood by modern physicists to be a statistical law, so decreasing entropy and non-increasing entropy are not impossible, just improbable. Additionally, entropy statistically increases in systems which are isolated, so non-isolated systems, such as an object, that interact with the outside world, can become less worn and decrease in entropy, and it's possible for an object whose world-line forms a closed loop to be always in the same condition in the same point of its history.\n",
            "\n",
            "title:Time travel\n",
            "\n",
            "url:https://en.wikipedia.org/wiki?curid=31591\n",
            "\n",
            "views:2000\n",
            "\n",
            "\n",
            "item 4\n",
            "_additional:{'distance': -149.86707}\n",
            "\n",
            "lang:en\n",
            "\n",
            "text:The science-fiction aspect of the film revolves around the ability to reverse the entropy of things and people, resulting in time reversibility. While the film does refer to real concepts from physics, among them annihilation, the second law of thermodynamics, Maxwell's demon, the grandfather paradox, and Feynman and Wheeler's Absorber Theory, Nolan stated in the film's press notes that \"we're not going to make any case for this being scientifically accurate\". Commenting on the scientific aspects of writing the script, he stated: \"I think the scientific method is the best tool we have for analysing and understanding the world around us ... I've been very inspired by working with great scientists like Kip Thorne, who I worked with on \"Interstellar\", who also helped me out with some early analysis of the ideas I wanted to explore to do with time and quantum physics on \"Tenet\", although I promised him I wasn't going to bandy his name around as if there was some kind of scientific reality to \"Tenet\". It's a very different kettle of fish to \"Interstellar\".\"\n",
            "\n",
            "title:Tenet (film)\n",
            "\n",
            "url:https://en.wikipedia.org/wiki?curid=59770239\n",
            "\n",
            "views:3000\n",
            "\n",
            "\n"
          ]
        }
      ]
    },
    {
      "cell_type": "markdown",
      "source": [
        "## Part 2: Building Semantic Search from Scratch\n",
        "\n",
        "### Get the text archive:"
      ],
      "metadata": {
        "id": "i7ogNR_LFJ1b"
      }
    },
    {
      "cell_type": "code",
      "source": [
        "# !pip install Annoy\n",
        "\n",
        "# Annoy - Approximately nearest neighbour alogo"
      ],
      "metadata": {
        "id": "PLHDWCeMGabx"
      },
      "execution_count": 35,
      "outputs": []
    },
    {
      "cell_type": "code",
      "source": [
        "from annoy import AnnoyIndex\n",
        "import numpy as np\n",
        "import pandas as pd\n",
        "import re"
      ],
      "metadata": {
        "id": "Q_DFt2YNE9GU"
      },
      "execution_count": 36,
      "outputs": []
    },
    {
      "cell_type": "code",
      "source": [
        "text = \"\"\"\n",
        "Interstellar is a 2014 epic science fiction film co-written, directed, and produced by Christopher Nolan.\n",
        "It stars Matthew McConaughey, Anne Hathaway, Jessica Chastain, Bill Irwin, Ellen Burstyn, Matt Damon, and Michael Caine.\n",
        "Set in a dystopian future where humanity is struggling to survive, the film follows a group of astronauts who travel through a wormhole near Saturn in search of a new home for mankind.\n",
        "\n",
        "Brothers Christopher and Jonathan Nolan wrote the screenplay, which had its origins in a script Jonathan developed in 2007.\n",
        "Caltech theoretical physicist and 2017 Nobel laureate in Physics[4] Kip Thorne was an executive producer, acted as a scientific consultant, and wrote a tie-in book, The Science of Interstellar.\n",
        "Cinematographer Hoyte van Hoytema shot it on 35 mm movie film in the Panavision anamorphic format and IMAX 70 mm.\n",
        "Principal photography began in late 2013 and took place in Alberta, Iceland, and Los Angeles.\n",
        "Interstellar uses extensive practical and miniature effects and the company Double Negative created additional digital effects.\n",
        "\n",
        "Interstellar premiered on October 26, 2014, in Los Angeles.\n",
        "In the United States, it was first released on film stock, expanding to venues using digital projectors.\n",
        "The film had a worldwide gross over $677 million (and $773 million with subsequent re-releases), making it the tenth-highest grossing film of 2014.\n",
        "It received acclaim for its performances, direction, screenplay, musical score, visual effects, ambition, themes, and emotional weight.\n",
        "It has also received praise from many astronomers for its scientific accuracy and portrayal of theoretical astrophysics. Since its premiere, Interstellar gained a cult following,[5] and now is regarded by many sci-fi experts as one of the best science-fiction films of all time.\n",
        "Interstellar was nominated for five awards at the 87th Academy Awards, winning Best Visual Effects, and received numerous other accolades\"\"\""
      ],
      "metadata": {
        "id": "c0iNBDSJGT-i"
      },
      "execution_count": 37,
      "outputs": []
    },
    {
      "cell_type": "code",
      "source": [
        "# Split into a list of sentences\n",
        "texts = text.split('.')\n",
        "\n",
        "# Clean up to remove empty spaces and new lines\n",
        "texts = np.array([t.strip(' \\n') for t in texts])"
      ],
      "metadata": {
        "id": "PiCAXGuEHT6h"
      },
      "execution_count": 38,
      "outputs": []
    },
    {
      "cell_type": "code",
      "source": [
        "texts"
      ],
      "metadata": {
        "id": "F8gVl24WHXL7",
        "outputId": "128da005-6eff-44db-d287-ba5bfa3edaa4",
        "colab": {
          "base_uri": "https://localhost:8080/"
        }
      },
      "execution_count": 39,
      "outputs": [
        {
          "output_type": "execute_result",
          "data": {
            "text/plain": [
              "array(['Interstellar is a 2014 epic science fiction film co-written, directed, and produced by Christopher Nolan',\n",
              "       'It stars Matthew McConaughey, Anne Hathaway, Jessica Chastain, Bill Irwin, Ellen Burstyn, Matt Damon, and Michael Caine',\n",
              "       'Set in a dystopian future where humanity is struggling to survive, the film follows a group of astronauts who travel through a wormhole near Saturn in search of a new home for mankind',\n",
              "       'Brothers Christopher and Jonathan Nolan wrote the screenplay, which had its origins in a script Jonathan developed in 2007',\n",
              "       'Caltech theoretical physicist and 2017 Nobel laureate in Physics[4] Kip Thorne was an executive producer, acted as a scientific consultant, and wrote a tie-in book, The Science of Interstellar',\n",
              "       'Cinematographer Hoyte van Hoytema shot it on 35 mm movie film in the Panavision anamorphic format and IMAX 70 mm',\n",
              "       'Principal photography began in late 2013 and took place in Alberta, Iceland, and Los Angeles',\n",
              "       'Interstellar uses extensive practical and miniature effects and the company Double Negative created additional digital effects',\n",
              "       'Interstellar premiered on October 26, 2014, in Los Angeles',\n",
              "       'In the United States, it was first released on film stock, expanding to venues using digital projectors',\n",
              "       'The film had a worldwide gross over $677 million (and $773 million with subsequent re-releases), making it the tenth-highest grossing film of 2014',\n",
              "       'It received acclaim for its performances, direction, screenplay, musical score, visual effects, ambition, themes, and emotional weight',\n",
              "       'It has also received praise from many astronomers for its scientific accuracy and portrayal of theoretical astrophysics',\n",
              "       'Since its premiere, Interstellar gained a cult following,[5] and now is regarded by many sci-fi experts as one of the best science-fiction films of all time',\n",
              "       'Interstellar was nominated for five awards at the 87th Academy Awards, winning Best Visual Effects, and received numerous other accolades'],\n",
              "      dtype='<U192')"
            ]
          },
          "metadata": {},
          "execution_count": 39
        }
      ]
    },
    {
      "cell_type": "code",
      "source": [
        "# Split into a list of sentences\n",
        "texts = text.split('.')\n",
        "\n",
        "# Clean up to remove empty spaces and new lines\n",
        "texts = np.array([t.strip(' \\n') for t in texts])"
      ],
      "metadata": {
        "id": "VK6a2XRIHfcT"
      },
      "execution_count": 40,
      "outputs": []
    },
    {
      "cell_type": "code",
      "source": [
        "texts"
      ],
      "metadata": {
        "id": "QirCvfnIHkqx",
        "outputId": "6e42910e-df96-4a81-cc5e-f5543f985987",
        "colab": {
          "base_uri": "https://localhost:8080/"
        }
      },
      "execution_count": 41,
      "outputs": [
        {
          "output_type": "execute_result",
          "data": {
            "text/plain": [
              "array(['Interstellar is a 2014 epic science fiction film co-written, directed, and produced by Christopher Nolan',\n",
              "       'It stars Matthew McConaughey, Anne Hathaway, Jessica Chastain, Bill Irwin, Ellen Burstyn, Matt Damon, and Michael Caine',\n",
              "       'Set in a dystopian future where humanity is struggling to survive, the film follows a group of astronauts who travel through a wormhole near Saturn in search of a new home for mankind',\n",
              "       'Brothers Christopher and Jonathan Nolan wrote the screenplay, which had its origins in a script Jonathan developed in 2007',\n",
              "       'Caltech theoretical physicist and 2017 Nobel laureate in Physics[4] Kip Thorne was an executive producer, acted as a scientific consultant, and wrote a tie-in book, The Science of Interstellar',\n",
              "       'Cinematographer Hoyte van Hoytema shot it on 35 mm movie film in the Panavision anamorphic format and IMAX 70 mm',\n",
              "       'Principal photography began in late 2013 and took place in Alberta, Iceland, and Los Angeles',\n",
              "       'Interstellar uses extensive practical and miniature effects and the company Double Negative created additional digital effects',\n",
              "       'Interstellar premiered on October 26, 2014, in Los Angeles',\n",
              "       'In the United States, it was first released on film stock, expanding to venues using digital projectors',\n",
              "       'The film had a worldwide gross over $677 million (and $773 million with subsequent re-releases), making it the tenth-highest grossing film of 2014',\n",
              "       'It received acclaim for its performances, direction, screenplay, musical score, visual effects, ambition, themes, and emotional weight',\n",
              "       'It has also received praise from many astronomers for its scientific accuracy and portrayal of theoretical astrophysics',\n",
              "       'Since its premiere, Interstellar gained a cult following,[5] and now is regarded by many sci-fi experts as one of the best science-fiction films of all time',\n",
              "       'Interstellar was nominated for five awards at the 87th Academy Awards, winning Best Visual Effects, and received numerous other accolades'],\n",
              "      dtype='<U192')"
            ]
          },
          "metadata": {},
          "execution_count": 41
        }
      ]
    },
    {
      "cell_type": "code",
      "source": [
        "# adding a title withn each chunks\n",
        "title = 'Interstellar (film)'\n",
        "\n",
        "texts = np.array([f\"{title} {t}\" for t in texts])"
      ],
      "metadata": {
        "id": "r0KPJQIVHlyZ"
      },
      "execution_count": 42,
      "outputs": []
    },
    {
      "cell_type": "code",
      "source": [
        "texts"
      ],
      "metadata": {
        "id": "Fmf9_u3zHp8D",
        "outputId": "e1082b6b-5daf-4fd0-c66c-861ee4888603",
        "colab": {
          "base_uri": "https://localhost:8080/"
        }
      },
      "execution_count": 43,
      "outputs": [
        {
          "output_type": "execute_result",
          "data": {
            "text/plain": [
              "array(['Interstellar (film) Interstellar is a 2014 epic science fiction film co-written, directed, and produced by Christopher Nolan',\n",
              "       'Interstellar (film) It stars Matthew McConaughey, Anne Hathaway, Jessica Chastain, Bill Irwin, Ellen Burstyn, Matt Damon, and Michael Caine',\n",
              "       'Interstellar (film) Set in a dystopian future where humanity is struggling to survive, the film follows a group of astronauts who travel through a wormhole near Saturn in search of a new home for mankind',\n",
              "       'Interstellar (film) Brothers Christopher and Jonathan Nolan wrote the screenplay, which had its origins in a script Jonathan developed in 2007',\n",
              "       'Interstellar (film) Caltech theoretical physicist and 2017 Nobel laureate in Physics[4] Kip Thorne was an executive producer, acted as a scientific consultant, and wrote a tie-in book, The Science of Interstellar',\n",
              "       'Interstellar (film) Cinematographer Hoyte van Hoytema shot it on 35 mm movie film in the Panavision anamorphic format and IMAX 70 mm',\n",
              "       'Interstellar (film) Principal photography began in late 2013 and took place in Alberta, Iceland, and Los Angeles',\n",
              "       'Interstellar (film) Interstellar uses extensive practical and miniature effects and the company Double Negative created additional digital effects',\n",
              "       'Interstellar (film) Interstellar premiered on October 26, 2014, in Los Angeles',\n",
              "       'Interstellar (film) In the United States, it was first released on film stock, expanding to venues using digital projectors',\n",
              "       'Interstellar (film) The film had a worldwide gross over $677 million (and $773 million with subsequent re-releases), making it the tenth-highest grossing film of 2014',\n",
              "       'Interstellar (film) It received acclaim for its performances, direction, screenplay, musical score, visual effects, ambition, themes, and emotional weight',\n",
              "       'Interstellar (film) It has also received praise from many astronomers for its scientific accuracy and portrayal of theoretical astrophysics',\n",
              "       'Interstellar (film) Since its premiere, Interstellar gained a cult following,[5] and now is regarded by many sci-fi experts as one of the best science-fiction films of all time',\n",
              "       'Interstellar (film) Interstellar was nominated for five awards at the 87th Academy Awards, winning Best Visual Effects, and received numerous other accolades'],\n",
              "      dtype='<U212')"
            ]
          },
          "metadata": {},
          "execution_count": 43
        }
      ]
    },
    {
      "cell_type": "markdown",
      "source": [
        "### Get the embeddings:"
      ],
      "metadata": {
        "id": "ji_OjZ8GIAb3"
      }
    },
    {
      "cell_type": "code",
      "source": [
        "response = co.embed(\n",
        "    texts=texts.tolist()\n",
        ").embeddings"
      ],
      "metadata": {
        "id": "9T9Ng6huHz59"
      },
      "execution_count": 46,
      "outputs": []
    },
    {
      "cell_type": "code",
      "source": [
        "embeds = np.array(response)\n",
        "\n",
        "# 15 senetences and dimention of embed is 4096\n",
        "embeds.shape"
      ],
      "metadata": {
        "id": "ppB4qqIeIEvK",
        "outputId": "c12fb57f-5af6-4934-897f-c493fb4e78db",
        "colab": {
          "base_uri": "https://localhost:8080/"
        }
      },
      "execution_count": 47,
      "outputs": [
        {
          "output_type": "execute_result",
          "data": {
            "text/plain": [
              "(15, 4096)"
            ]
          },
          "metadata": {},
          "execution_count": 47
        }
      ]
    },
    {
      "cell_type": "markdown",
      "source": [
        "### Create the search index:"
      ],
      "metadata": {
        "id": "Nb0SwkDQIoX8"
      }
    },
    {
      "cell_type": "code",
      "source": [
        "search_index = AnnoyIndex(embeds.shape[1], 'angular')\n",
        "# Add all the vectors to the search index\n",
        "for i in range(len(embeds)):\n",
        "    search_index.add_item(i, embeds[i])\n",
        "\n",
        "search_index.build(10) # 10 trees\n",
        "search_index.save('test.ann')"
      ],
      "metadata": {
        "id": "-rpa9CGvIaYN",
        "outputId": "04ecbdea-28b7-4488-e8d1-310d99e09331",
        "colab": {
          "base_uri": "https://localhost:8080/"
        }
      },
      "execution_count": 48,
      "outputs": [
        {
          "output_type": "execute_result",
          "data": {
            "text/plain": [
              "True"
            ]
          },
          "metadata": {},
          "execution_count": 48
        }
      ]
    },
    {
      "cell_type": "code",
      "source": [],
      "metadata": {
        "id": "xYwIQ4TkI0dc"
      },
      "execution_count": null,
      "outputs": []
    }
  ]
}